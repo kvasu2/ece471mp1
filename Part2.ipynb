{
 "cells": [
  {
   "cell_type": "markdown",
   "metadata": {},
   "source": [
    "### Part 2\n",
    "## Task 3"
   ]
  },
  {
   "cell_type": "code",
   "execution_count": null,
   "metadata": {},
   "outputs": [],
   "source": [
    "# Extra assumptions:\n",
    "\n",
    "# Total miles driven by all AV vehicles\n",
    "total_miles = 505229\n",
    "\n",
    "# Probability for a day to be clear\n",
    "p_clear = 0.72"
   ]
  },
  {
   "cell_type": "markdown",
   "metadata": {},
   "source": [
    "# 1.\n",
    "# a.\n",
    "The occurence of disengagement per mile (or rather, the number of disengagements per $n$ miles) follows a binomial distribution, under the assumption that there can be only one disengagement per mile and the disengagement per mile is in independent occurence."
   ]
  }
 ],
 "metadata": {
  "language_info": {
   "name": "python"
  }
 },
 "nbformat": 4,
 "nbformat_minor": 2
}
