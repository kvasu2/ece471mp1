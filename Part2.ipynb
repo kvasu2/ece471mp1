{
 "cells": [
  {
   "cell_type": "markdown",
   "metadata": {},
   "source": [
    "### Part 2\n",
    "## Task 3"
   ]
  },
  {
   "cell_type": "code",
   "execution_count": 31,
   "metadata": {},
   "outputs": [],
   "source": [
    "import pandas as pd\n",
    "import numpy as np\n",
    "import scipy as sp\n",
    "import math"
   ]
  },
  {
   "cell_type": "code",
   "execution_count": 32,
   "metadata": {},
   "outputs": [],
   "source": [
    "# Extra assumptions:\n",
    "\n",
    "# Total miles driven by all AV vehicles\n",
    "total_miles = 505229\n",
    "\n",
    "# Probability for a day to be clear\n",
    "p_clear_day = 0.72"
   ]
  },
  {
   "cell_type": "code",
   "execution_count": 33,
   "metadata": {},
   "outputs": [
    {
     "name": "stdout",
     "output_type": "stream",
     "text": [
      "       Month                Car      Location Weather TypeOfTrigger  \\\n",
      "0     14-Sep  WDD2221851A001072  urban-street  cloudy     automatic   \n",
      "1     14-Sep  WDD2221851A001072  urban-street  cloudy     automatic   \n",
      "2     14-Sep  WDD2221851A001072  urban-street  cloudy     automatic   \n",
      "3     14-Sep  WDD2221851A001072  urban-street  cloudy     automatic   \n",
      "4     14-Sep  WDD2221851A001072  urban-street  cloudy     automatic   \n",
      "...      ...                ...           ...     ...           ...   \n",
      "1019  14-Nov  WDD2221851A000495  urban-street   clear        manual   \n",
      "1020  14-Nov  WDD2221851A000495  urban-street   clear        manual   \n",
      "1021  14-Nov  WDD2221851A000495       highway   clear        manual   \n",
      "1022  14-Nov  WDD2221851A000495  urban-street   clear        manual   \n",
      "1023  14-Nov  WDD2221851A000495  urban-street   clear        manual   \n",
      "\n",
      "      ReactionTime                              Cause  \n",
      "0             0.58  Incorrect Traffic Light Detection  \n",
      "1             0.66    Adverse road surface conditions  \n",
      "2             1.93        Position Estimation Failure  \n",
      "3             0.65                  Emergency Vehicle  \n",
      "4             0.64    Adverse road surface conditions  \n",
      "...            ...                                ...  \n",
      "1019           NaN                     Hardware Fault  \n",
      "1020           NaN      System Tuning and Calibration  \n",
      "1021           NaN      System Tuning and Calibration  \n",
      "1022           NaN                     Hardware Fault  \n",
      "1023           NaN      System Tuning and Calibration  \n",
      "\n",
      "[1024 rows x 7 columns]\n"
     ]
    }
   ],
   "source": [
    "# Importing the data\n",
    "DMV_Data = pd.read_csv(\"mp1_av_disengagements.csv\")\n",
    "\n",
    "print(DMV_Data) "
   ]
  },
  {
   "cell_type": "markdown",
   "metadata": {},
   "source": [
    "# 1.\n",
    "# a.\n",
    "The occurence of disengagement per mile follows a boolean (or Bernoulli) distribution, under the assumption that there can be only one disengagement per mile.\n",
    "\n",
    "Under the assumption that the probability of disengagement for each mile is independent, the number of disengagements in $n$ miles follows a binomial distribution. The probability parameter for the disengagement per mile might differ on the conditions of that day (i.e. different parameter for clear and cloudy days)."
   ]
  },
  {
   "cell_type": "markdown",
   "metadata": {},
   "source": [
    "# b. and c.\n",
    "We first count the number of disengagements in cloudy and clear weather, then count the probability based on the expected miles driven for each day. We have to assume that the number of disengagements does not influence the number of miles driven."
   ]
  },
  {
   "cell_type": "code",
   "execution_count": 34,
   "metadata": {},
   "outputs": [
    {
     "name": "stdout",
     "output_type": "stream",
     "text": [
      "Weather\n",
      "cloudy    835\n",
      "clear     189\n",
      "Name: count, dtype: int64\n",
      "Number of disengagements on cloudy days:\n",
      "835\n",
      "Number of disengagements on clear days\n",
      "189\n",
      "Probability of disengagement per mile on a clear day is:\n",
      "0.0005195663748517998\n",
      "Probability of disengagement per mile on a cloudy day is:\n",
      "0.005902556775527249\n"
     ]
    }
   ],
   "source": [
    "# Get the weather counts\n",
    "weather_counts = DMV_Data[\"Weather\"].value_counts()\n",
    "print(weather_counts)\n",
    "print(\"Number of disengagements on cloudy days:\")\n",
    "print(weather_counts[\"cloudy\"])\n",
    "print(\"Number of disengagements on clear days\")\n",
    "print(weather_counts[\"clear\"])\n",
    "\n",
    "clear_miles = p_clear_day * total_miles\n",
    "cloudy_miles = (1 - p_clear_day) * total_miles\n",
    "\n",
    "print(\"Probability of disengagement per mile on a clear day is:\")\n",
    "p_clear = weather_counts[\"clear\"] / clear_miles\n",
    "print(p_clear)\n",
    "\n",
    "print(\"Probability of disengagement per mile on a cloudy day is:\")\n",
    "p_cloudy = weather_counts[\"cloudy\"] / cloudy_miles\n",
    "print(p_cloudy)"
   ]
  },
  {
   "cell_type": "markdown",
   "metadata": {},
   "source": [
    "# d.\n",
    "Now we have to count the number of rows that contain \"Cloudy\" (resp. \"Clear\") in the \"Weather\" column, and \"Automatic\" in the \"TypeOfTrigger\" column. This can be done using pandas filter."
   ]
  },
  {
   "cell_type": "code",
   "execution_count": 35,
   "metadata": {},
   "outputs": [
    {
     "name": "stdout",
     "output_type": "stream",
     "text": [
      "Probability of an automatic disengagement per mile on a clear day is:\n",
      "0.00026390673008345393\n",
      "Probability of disengagement per mile on a cloudy day is:\n",
      "0.0028063653172267283\n"
     ]
    }
   ],
   "source": [
    "weather_auto_counts = DMV_Data[DMV_Data[\"TypeOfTrigger\"] == \"automatic\"][\"Weather\"].value_counts()\n",
    "\n",
    "print(\"Probability of an automatic disengagement per mile on a clear day is:\")\n",
    "p_clear_auto = weather_auto_counts[\"clear\"] / clear_miles\n",
    "print(p_clear_auto)\n",
    "\n",
    "print(\"Probability of disengagement per mile on a cloudy day is:\")\n",
    "p_cloudy_auto = weather_auto_counts[\"cloudy\"] / cloudy_miles\n",
    "print(p_cloudy_auto)"
   ]
  },
  {
   "cell_type": "markdown",
   "metadata": {},
   "source": [
    "# e.\n",
    "We have our boolean probability parameter $p_{\\text{cloudy}}$ for the binomial distribution for the engamement per mile under cloudy conditions. Let $X_i$ be the boolean variable that is 1 if there is a disengagement in mile $i$ and $0$ if there is no disengagment. Let \n",
    "$$\n",
    "    Y = \\sum_{i=1}^{10000} X_i\n",
    "$$\n",
    "We have to calculate\n",
    "$$\n",
    "    P(Y > 100)\n",
    "$$\n",
    "By the central limit theorem, the normalized variable\n",
    "$$\n",
    "Y^* = \\frac{Y - 10000\\cdot p_{\\text{cloudy}}}{\\sqrt{10000 p_{{\\text{cloudy}}}(1 - p_{\\text{cloudy}})}}\n",
    "$$\n",
    "is (very accurately) described by a normal distribution with mean 0 and standard deviation 1. We have:\n",
    "$$\n",
    "    P(Y > 100) = P\\left(Y^* > \\frac{100 - 10000 p_{\\text{cloudy}}}{\\sqrt{10000 p_{\\text{cloudy}}(1-p_{\\text{cloudy}})}}\\right).\n",
    "$$"
   ]
  },
  {
   "cell_type": "code",
   "execution_count": 44,
   "metadata": {},
   "outputs": [
    {
     "name": "stdout",
     "output_type": "stream",
     "text": [
      "The probability that there are 100 disengagements per 10,000 miles under cloudy conditions is:\n",
      "4.420337695876242e-08\n",
      "Sanity check: the probablity that there is 1 disengagment should be rather high:\n",
      "0.999999999999982\n"
     ]
    }
   ],
   "source": [
    "quantity = (100 - 10000 * p_cloudy) / math.sqrt(10000 * p_cloudy * (1 - p_cloudy))\n",
    "p = 1 - sp.stats.norm.cdf(quantity)\n",
    "print(\"The probability that there are 100 disengagements per 10,000 miles under cloudy conditions is:\")\n",
    "print(p)\n",
    "\n",
    "print(\"Sanity check: the probablity that there is 1 disengagment should be rather high:\")\n",
    "(100 - 10000 * p_cloudy) / math.sqrt(10000 * p_cloudy * (1 - p_cloudy))\n",
    "print(1 - sp.stats.norm.cdf((1 - 10000 * p_cloudy) / math.sqrt(10000 * p_cloudy * (1 - p_cloudy))))"
   ]
  },
  {
   "cell_type": "markdown",
   "metadata": {},
   "source": [
    "## 2\n",
    "# a.\n",
    "Let $X_k$ be the random variable of disengagement in mile $k$ ($X_k = 0$ if no disengagement in mile $k$, and $X_k = 1$ if there is a disengagement in mile $k$, with probability $p_{\\text{cloudy}}$), and $M$ the number of miles until next engagement. We calculate:\n",
    "$$\n",
    "    P(M = n) = \\left( \\prod_{k=1}^{n-1} P(X_k = 0) \\right) \\cdot P(X_n = 1) = (1 - p_{\\text{cloudy}})^{n-1} \\cdot p_{\\text{cloudy}}\n",
    "$$\n",
    "We see that $M$ follows a geometric distribution."
   ]
  },
  {
   "cell_type": "markdown",
   "metadata": {},
   "source": [
    "# b.\n",
    "As stated in our answer to Task 3.1.a., the number of disengagements $Y_n$ per $n$ miles under cloudy conditions follows a binomial distribution, so\n",
    "$$\n",
    "    P(Y_n = k) = \\binom{k}{n} p_{\\text{cloudy}}^k (1-p_{\\text{cloudy}})^{n-k}\n",
    "$$\n",
    "It is of course understood that $n=10,000$ and $p_{\\text{cloudy}} \\cong 0.006$ as calculated above, but it's way more transparant to write $n$ and $p_{\\text{cloudy}}$ instead of their actual values."
   ]
  },
  {
   "cell_type": "markdown",
   "metadata": {},
   "source": [
    "# c.\n",
    "Under the assumption that $n$ is very large and $p$ is very small (but keeping the average $\\mu = n\\cdot p$ constant), the binomial distribution can be approximated by a Poisson distribution. There is only one parameter, which is the average. The value of the Poisson that approximates $Y_{10000}$ is $\\mu = 10000 \\cdot p_{\\text{cloudy}}$. See the value below:"
   ]
  },
  {
   "cell_type": "code",
   "execution_count": 46,
   "metadata": {},
   "outputs": [
    {
     "name": "stdout",
     "output_type": "stream",
     "text": [
      "59.02556775527249\n"
     ]
    }
   ],
   "source": [
    "mu = 10000 * p_cloudy\n",
    "print(mu)"
   ]
  }
 ],
 "metadata": {
  "kernelspec": {
   "display_name": "Python 3",
   "language": "python",
   "name": "python3"
  },
  "language_info": {
   "codemirror_mode": {
    "name": "ipython",
    "version": 3
   },
   "file_extension": ".py",
   "mimetype": "text/x-python",
   "name": "python",
   "nbconvert_exporter": "python",
   "pygments_lexer": "ipython3",
   "version": "3.12.3"
  }
 },
 "nbformat": 4,
 "nbformat_minor": 2
}
