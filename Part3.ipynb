{
 "cells": [
  {
   "cell_type": "code",
   "execution_count": 28,
   "metadata": {},
   "outputs": [],
   "source": [
    "import pandas as pd\n",
    "import numpy as np\n",
    "import scipy as sp\n",
    "import math\n",
    "import matplotlib.pyplot as plt"
   ]
  },
  {
   "cell_type": "markdown",
   "metadata": {},
   "source": [
    "# Task 4"
   ]
  },
  {
   "cell_type": "code",
   "execution_count": 29,
   "metadata": {},
   "outputs": [
    {
     "name": "stdout",
     "output_type": "stream",
     "text": [
      "['Completed', 'Failed -- Simulator crashed', 'Failed -- Accident']\n"
     ]
    }
   ],
   "source": [
    "unfiltered_simulation_data = pd.read_csv(\"mp1_part3_data_2024.csv\")\n",
    "\n",
    "# Figure which status each simulation can have\n",
    "status_values = unfiltered_simulation_data['status'].unique().tolist()\n",
    "print(status_values)\n",
    "\n",
    "# Filted the crashed simulations\n",
    "simulation_data = unfiltered_simulation_data[unfiltered_simulation_data['status'] != 'Failed -- Simulator crashed']\n"
   ]
  },
  {
   "cell_type": "markdown",
   "metadata": {},
   "source": [
    "## 1.\n",
    "# a."
   ]
  },
  {
   "cell_type": "code",
   "execution_count": 30,
   "metadata": {},
   "outputs": [
    {
     "name": "stdout",
     "output_type": "stream",
     "text": [
      "The probability of an accident is: 0.0898989898989899\n"
     ]
    }
   ],
   "source": [
    "counts = simulation_data['status'].value_counts()\n",
    "p_accident = counts['Failed -- Accident'] / (counts['Failed -- Accident'] + counts['Completed'])\n",
    "print(f\"The probability of an accident is: {p_accident}\")"
   ]
  },
  {
   "cell_type": "markdown",
   "metadata": {},
   "source": [
    "## b."
   ]
  },
  {
   "cell_type": "code",
   "execution_count": 31,
   "metadata": {},
   "outputs": [
    {
     "name": "stdout",
     "output_type": "stream",
     "text": [
      "The conditional probabilities are:\n",
      "P(accident | clear) = 0.008130081300813009\n",
      "P(accident | cloudy) = 0.04251012145748988\n",
      "P(accident | rain) = 0.12474849094567404\n",
      "P(accident | snow) = 0.18309859154929578\n"
     ]
    }
   ],
   "source": [
    "weather_conditions = simulation_data['weather'].unique().tolist()\n",
    "\n",
    "print(\"The conditional probabilities are:\")\n",
    "\n",
    "# Save the probabilities in a dictionary\n",
    "conditional_accidents = dict()\n",
    "\n",
    "for weather in weather_conditions:\n",
    "    counts = simulation_data[simulation_data['weather'] == weather]['status'].value_counts()\n",
    "    probability = counts['Failed -- Accident'] / (counts['Failed -- Accident'] + counts['Completed'])\n",
    "    conditional_accidents[weather] = probability\n",
    "    print(f\"P(accident | {weather}) = {probability}\")"
   ]
  },
  {
   "cell_type": "markdown",
   "metadata": {},
   "source": [
    "# 2.\n",
    "\n",
    "The probability is calculated by the formula:\n",
    "$$\n",
    "    P(\\text{accident}) = \\sum_{\\text{weather}} P(\\text{accident} | \\text{weather})\\cdot P(\\text{weather})\n",
    "$$\n",
    "where $P(\\text{weather})$ is dependent on the location. Now we can calculate the probabilities for California and Chicago."
   ]
  },
  {
   "cell_type": "code",
   "execution_count": 32,
   "metadata": {},
   "outputs": [
    {
     "name": "stdout",
     "output_type": "stream",
     "text": [
      "The chance of an accident in Chicago is: 0.062335546805072556\n",
      "The chance of an accident in California is: 0.02192977720839371\n"
     ]
    }
   ],
   "source": [
    "weather_chicago = dict()\n",
    "weather_chicago['clear'] = 0.6\n",
    "weather_chicago['rain'] = 0.15\n",
    "weather_chicago['snow'] = 0.2\n",
    "weather_chicago['cloudy'] = 0.05\n",
    "\n",
    "weather_california = dict()\n",
    "weather_california['clear'] = 0.8\n",
    "weather_california['rain'] = 0.05\n",
    "weather_california['snow'] = 0.02\n",
    "weather_california['cloudy'] = 0.13\n",
    "\n",
    "p_accident_chicago = 0\n",
    "for weather in weather_conditions:\n",
    "    p_accident_chicago = p_accident_chicago + conditional_accidents[weather] * weather_chicago[weather]\n",
    "\n",
    "print(f\"The chance of an accident in Chicago is: {p_accident_chicago}\")\n",
    "\n",
    "p_accident_california = 0\n",
    "for weather in weather_conditions:\n",
    "    p_accident_california = p_accident_california + conditional_accidents[weather] * weather_california[weather]\n",
    "\n",
    "print(f\"The chance of an accident in California is: {p_accident_california}\")"
   ]
  },
  {
   "cell_type": "markdown",
   "metadata": {},
   "source": [
    "# 3\n",
    "## a.\n",
    "### i.\n",
    "\n",
    "We can assume that both the rainy and snowy conditions fall under the cloudy conditions of the DMV data, since clouds are often necessary for there to be any precipitation.\n",
    "\n",
    "### ii.\n",
    "Let us assume that each cut-in scenario is exactly one mile. The probability of an accident per mile in California from the real life data was about 0.0033, while the accident per cut-in scenario is about 0.02. We see that the simulations have a much higher chance of accident than the real life data."
   ]
  },
  {
   "cell_type": "markdown",
   "metadata": {},
   "source": [
    "## b.\n",
    "Let $X$ be the number of accidents after $k$ cut-in scenarios. Then\n",
    "$$\n",
    "    P(X \\geq 1) = 1 - P(X = 0) = 1- (1-p)^k\n",
    "$$\n",
    "where $p$ is the probability of an accident for each cut-in scenario. There need to be $k$ consecutive cut-in scenarios with no accident for $X$ to remain zero, and this happens with probability $P(X=0) = (1-p) \\cdots (1-p) = (1-p)^k$."
   ]
  },
  {
   "cell_type": "markdown",
   "metadata": {},
   "source": [
    "## c.\n",
    "Assume that each cut-in scenario is exactly one mile. The probability of an accident in the simulation per mile is a lot higher than in real life. The main cause of this difference is probably driver intervention. Another, smaller, reason could be that the simulated scenarios encounter more conflicts, such as other cars on the road, and in real life many miles are also driven on empty roads."
   ]
  },
  {
   "cell_type": "markdown",
   "metadata": {},
   "source": [
    "## d.\n",
    "\n",
    "Pros\n",
    "- You can experiment with the behaviour of AV's without driver intervention. This unethical in real life,\n",
    "- You can experiment with different and more extreme weather conditions\n",
    "\n",
    "Cons\n",
    "- Simulation might not reflect real life behaviour of other road users.\n",
    "- Doesn't take the driver's reaction time into consideration. \n"
   ]
  },
  {
   "cell_type": "markdown",
   "metadata": {},
   "source": [
    "# 4\n",
    "Wilmer Smilde: Earlier feedback would be helpful. I don't see why MP1 is split up into different parts, when we don't receive any feedback until the last part is handed in."
   ]
  },
  {
   "cell_type": "markdown",
   "metadata": {},
   "source": []
  }
 ],
 "metadata": {
  "kernelspec": {
   "display_name": "Python 3",
   "language": "python",
   "name": "python3"
  },
  "language_info": {
   "codemirror_mode": {
    "name": "ipython",
    "version": 3
   },
   "file_extension": ".py",
   "mimetype": "text/x-python",
   "name": "python",
   "nbconvert_exporter": "python",
   "pygments_lexer": "ipython3",
   "version": "3.12.3"
  }
 },
 "nbformat": 4,
 "nbformat_minor": 2
}
