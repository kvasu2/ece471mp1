{
 "cells": [
  {
   "cell_type": "code",
   "execution_count": 1,
   "metadata": {},
   "outputs": [],
   "source": [
    "import pandas as pd\n",
    "import numpy as np\n",
    "import scipy as sp\n",
    "import math\n",
    "import matplotlib.pyplot as plt"
   ]
  },
  {
   "cell_type": "markdown",
   "metadata": {},
   "source": [
    "# Task 4"
   ]
  },
  {
   "cell_type": "code",
   "execution_count": 12,
   "metadata": {},
   "outputs": [
    {
     "name": "stdout",
     "output_type": "stream",
     "text": [
      "      Unnamed: 0 weather     scenario     status\n",
      "0              0   clear  ghost_cutin  Completed\n",
      "1              1  cloudy  ghost_cutin  Completed\n",
      "2              2    rain  ghost_cutin  Completed\n",
      "3              3    snow  ghost_cutin  Completed\n",
      "4              4   clear  ghost_cutin  Completed\n",
      "...          ...     ...          ...        ...\n",
      "1995        1995    snow  ghost_cutin  Completed\n",
      "1996        1996   clear  ghost_cutin  Completed\n",
      "1997        1997  cloudy  ghost_cutin  Completed\n",
      "1998        1998    rain  ghost_cutin  Completed\n",
      "1999        1999    snow  ghost_cutin  Completed\n",
      "\n",
      "[2000 rows x 4 columns]\n",
      "['Completed', 'Failed -- Simulator crashed', 'Failed -- Accident']\n",
      "      Unnamed: 0 weather     scenario     status\n",
      "0              0   clear  ghost_cutin  Completed\n",
      "1              1  cloudy  ghost_cutin  Completed\n",
      "2              2    rain  ghost_cutin  Completed\n",
      "3              3    snow  ghost_cutin  Completed\n",
      "4              4   clear  ghost_cutin  Completed\n",
      "...          ...     ...          ...        ...\n",
      "1995        1995    snow  ghost_cutin  Completed\n",
      "1996        1996   clear  ghost_cutin  Completed\n",
      "1997        1997  cloudy  ghost_cutin  Completed\n",
      "1998        1998    rain  ghost_cutin  Completed\n",
      "1999        1999    snow  ghost_cutin  Completed\n",
      "\n",
      "[1980 rows x 4 columns]\n"
     ]
    }
   ],
   "source": [
    "unfiltered_simulation_data = pd.read_csv(\"mp1_part3_data_2024.csv\")\n",
    "print(unfiltered_simulation_data)\n",
    "\n",
    "# Figure which status each simulation can have\n",
    "status_values = unfiltered_simulation_data['status'].unique().tolist()\n",
    "print(status_values)\n",
    "\n",
    "# Filted the crashed simulations\n",
    "simulation_data = unfiltered_simulation_data[unfiltered_simulation_data['status'] != 'Failed -- Simulator crashed']\n",
    "print(simulation_data)"
   ]
  },
  {
   "cell_type": "markdown",
   "metadata": {},
   "source": [
    "## 1.\n",
    "# a."
   ]
  },
  {
   "cell_type": "code",
   "execution_count": 17,
   "metadata": {},
   "outputs": [
    {
     "name": "stdout",
     "output_type": "stream",
     "text": [
      "The probability of an accident is: 0.0898989898989899\n"
     ]
    }
   ],
   "source": [
    "counts = simulation_data['status'].value_counts()\n",
    "p_accident = counts['Failed -- Accident'] / (counts['Failed -- Accident'] + counts['Completed'])\n",
    "print(f\"The probability of an accident is: {p_accident}\")"
   ]
  },
  {
   "cell_type": "markdown",
   "metadata": {},
   "source": [
    "## b."
   ]
  },
  {
   "cell_type": "code",
   "execution_count": 22,
   "metadata": {},
   "outputs": [
    {
     "name": "stdout",
     "output_type": "stream",
     "text": [
      "['clear', 'cloudy', 'rain', 'snow']\n",
      "The conditional probability is: P(accident | clear) = 0.008130081300813009\n",
      "The conditional probability is: P(accident | cloudy) = 0.04251012145748988\n",
      "The conditional probability is: P(accident | rain) = 0.12474849094567404\n",
      "The conditional probability is: P(accident | snow) = 0.18309859154929578\n"
     ]
    }
   ],
   "source": [
    "weather_conditions = simulation_data['weather'].unique().tolist()\n",
    "print(weather_conditions)\n",
    "\n",
    "for weather in weather_conditions:\n",
    "    counts = simulation_data[simulation_data['weather'] == weather]['status'].value_counts()\n",
    "    probability = counts['Failed -- Accident'] / (counts['Failed -- Accident'] + counts['Completed'])\n",
    "    print(f\"The conditional probability is: P(accident | {weather}) = {probability}\")"
   ]
  }
 ],
 "metadata": {
  "kernelspec": {
   "display_name": "Python 3",
   "language": "python",
   "name": "python3"
  },
  "language_info": {
   "codemirror_mode": {
    "name": "ipython",
    "version": 3
   },
   "file_extension": ".py",
   "mimetype": "text/x-python",
   "name": "python",
   "nbconvert_exporter": "python",
   "pygments_lexer": "ipython3",
   "version": "3.12.3"
  }
 },
 "nbformat": 4,
 "nbformat_minor": 2
}
