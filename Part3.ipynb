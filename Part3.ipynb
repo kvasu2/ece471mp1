{
 "cells": [
  {
   "cell_type": "code",
   "execution_count": 1,
   "metadata": {},
   "outputs": [],
   "source": [
    "import pandas as pd\n",
    "import numpy as np\n",
    "import scipy as sp\n",
    "import math\n",
    "import matplotlib.pyplot as plt"
   ]
  },
  {
   "cell_type": "markdown",
   "metadata": {},
   "source": [
    "# Task 4"
   ]
  },
  {
   "cell_type": "code",
   "execution_count": 12,
   "metadata": {},
   "outputs": [
    {
     "name": "stdout",
     "output_type": "stream",
     "text": [
      "      Unnamed: 0 weather     scenario     status\n",
      "0              0   clear  ghost_cutin  Completed\n",
      "1              1  cloudy  ghost_cutin  Completed\n",
      "2              2    rain  ghost_cutin  Completed\n",
      "3              3    snow  ghost_cutin  Completed\n",
      "4              4   clear  ghost_cutin  Completed\n",
      "...          ...     ...          ...        ...\n",
      "1995        1995    snow  ghost_cutin  Completed\n",
      "1996        1996   clear  ghost_cutin  Completed\n",
      "1997        1997  cloudy  ghost_cutin  Completed\n",
      "1998        1998    rain  ghost_cutin  Completed\n",
      "1999        1999    snow  ghost_cutin  Completed\n",
      "\n",
      "[2000 rows x 4 columns]\n",
      "['Completed', 'Failed -- Simulator crashed', 'Failed -- Accident']\n",
      "      Unnamed: 0 weather     scenario     status\n",
      "0              0   clear  ghost_cutin  Completed\n",
      "1              1  cloudy  ghost_cutin  Completed\n",
      "2              2    rain  ghost_cutin  Completed\n",
      "3              3    snow  ghost_cutin  Completed\n",
      "4              4   clear  ghost_cutin  Completed\n",
      "...          ...     ...          ...        ...\n",
      "1995        1995    snow  ghost_cutin  Completed\n",
      "1996        1996   clear  ghost_cutin  Completed\n",
      "1997        1997  cloudy  ghost_cutin  Completed\n",
      "1998        1998    rain  ghost_cutin  Completed\n",
      "1999        1999    snow  ghost_cutin  Completed\n",
      "\n",
      "[1980 rows x 4 columns]\n"
     ]
    }
   ],
   "source": [
    "unfiltered_simulation_data = pd.read_csv(\"mp1_part3_data_2024.csv\")\n",
    "print(unfiltered_simulation_data)\n",
    "\n",
    "# Figure which status each simulation can have\n",
    "status_values = unfiltered_simulation_data['status'].unique().tolist()\n",
    "print(status_values)\n",
    "\n",
    "# Filted the crashed simulations\n",
    "simulation_data = unfiltered_simulation_data[unfiltered_simulation_data['status'] != 'Failed -- Simulator crashed']\n",
    "print(simulation_data)"
   ]
  },
  {
   "cell_type": "markdown",
   "metadata": {},
   "source": [
    "## 1.\n",
    "# a."
   ]
  },
  {
   "cell_type": "code",
   "execution_count": 17,
   "metadata": {},
   "outputs": [
    {
     "name": "stdout",
     "output_type": "stream",
     "text": [
      "The probability of an accident is: 0.0898989898989899\n"
     ]
    }
   ],
   "source": [
    "counts = simulation_data['status'].value_counts()\n",
    "p_accident = counts['Failed -- Accident'] / (counts['Failed -- Accident'] + counts['Completed'])\n",
    "print(f\"The probability of an accident is: {p_accident}\")"
   ]
  },
  {
   "cell_type": "markdown",
   "metadata": {},
   "source": [
    "## b."
   ]
  },
  {
   "cell_type": "code",
   "execution_count": 25,
   "metadata": {},
   "outputs": [
    {
     "name": "stdout",
     "output_type": "stream",
     "text": [
      "The conditional probabilities are:\n",
      "P(accident | clear) = 0.008130081300813009\n",
      "P(accident | cloudy) = 0.04251012145748988\n",
      "P(accident | rain) = 0.12474849094567404\n",
      "P(accident | snow) = 0.18309859154929578\n"
     ]
    }
   ],
   "source": [
    "weather_conditions = simulation_data['weather'].unique().tolist()\n",
    "\n",
    "print(\"The conditional probabilities are:\")\n",
    "\n",
    "# Save the probabilities in a dictionary\n",
    "conditional_accidents = dict()\n",
    "\n",
    "for weather in weather_conditions:\n",
    "    counts = simulation_data[simulation_data['weather'] == weather]['status'].value_counts()\n",
    "    probability = counts['Failed -- Accident'] / (counts['Failed -- Accident'] + counts['Completed'])\n",
    "    conditional_accidents[weather] = probability\n",
    "    print(f\"P(accident | {weather}) = {probability}\")"
   ]
  },
  {
   "cell_type": "markdown",
   "metadata": {},
   "source": [
    "### 2.\n",
    "\n",
    "The probability is calculated by the formula:\n",
    "$$\n",
    "    P(\\text{accident}) = \\sum_{\\text{weather}} P(\\text{accident} | \\text{weather})\\cdot P(\\text{weather})\n",
    "$$\n",
    "where $P(\\text{weather})$ is dependent on the location. Now we can calculate the probabilities for California and Chicago."
   ]
  },
  {
   "cell_type": "code",
   "execution_count": 27,
   "metadata": {},
   "outputs": [
    {
     "name": "stdout",
     "output_type": "stream",
     "text": [
      "The chance of an accident in Chicago is: 0.062335546805072556\n",
      "The chance of an accident in California is: 0.02192977720839371\n"
     ]
    }
   ],
   "source": [
    "weather_chicago = dict()\n",
    "weather_chicago['clear'] = 0.6\n",
    "weather_chicago['rain'] = 0.15\n",
    "weather_chicago['snow'] = 0.2\n",
    "weather_chicago['cloudy'] = 0.05\n",
    "\n",
    "weather_california = dict()\n",
    "weather_california['clear'] = 0.8\n",
    "weather_california['rain'] = 0.05\n",
    "weather_california['snow'] = 0.02\n",
    "weather_california['cloudy'] = 0.13\n",
    "\n",
    "p_accident_chicago = 0\n",
    "for weather in weather_conditions:\n",
    "    p_accident_chicago = p_accident_chicago + conditional_accidents[weather] * weather_chicago[weather]\n",
    "\n",
    "print(f\"The chance of an accident in Chicago is: {p_accident_chicago}\")\n",
    "\n",
    "p_accident_california = 0\n",
    "for weather in weather_conditions:\n",
    "    p_accident_california = p_accident_california + conditional_accidents[weather] * weather_california[weather]\n",
    "\n",
    "print(f\"The chance of an accident in California is: {p_accident_california}\")"
   ]
  }
 ],
 "metadata": {
  "kernelspec": {
   "display_name": "Python 3",
   "language": "python",
   "name": "python3"
  },
  "language_info": {
   "codemirror_mode": {
    "name": "ipython",
    "version": 3
   },
   "file_extension": ".py",
   "mimetype": "text/x-python",
   "name": "python",
   "nbconvert_exporter": "python",
   "pygments_lexer": "ipython3",
   "version": "3.12.3"
  }
 },
 "nbformat": 4,
 "nbformat_minor": 2
}
