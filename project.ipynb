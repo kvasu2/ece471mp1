{
 "cells": [
  {
   "cell_type": "code",
   "execution_count": 3,
   "metadata": {},
   "outputs": [],
   "source": [
    "import pandas as pd"
   ]
  },
  {
   "cell_type": "markdown",
   "metadata": {},
   "source": [
    "# Task 1"
   ]
  },
  {
   "cell_type": "markdown",
   "metadata": {},
   "source": [
    "## 1 Import .csv files\n",
    "\n",
    "### Clear night"
   ]
  },
  {
   "cell_type": "code",
   "execution_count": 4,
   "metadata": {},
   "outputs": [
    {
     "name": "stdout",
     "output_type": "stream",
     "text": [
      "      ts  agent_id  throttle     steer  brake\n",
      "0  74325         0       0.9 -0.002665    0.0\n",
      "1  74326         0       0.9 -0.011529    0.0\n",
      "2  74327         0       0.9 -0.009963    0.0\n",
      "3  74328         0       0.9 -0.011508    0.0\n",
      "4  74329         0       0.9  0.000712    0.0\n",
      "      ts  agent_id        cvip      cvip_x     cvip_y      cvip_z\n",
      "0  74325         0  500.491189  198.767441 -95.832657 -499.819366\n",
      "1  74326         0    5.595580  195.567444 -90.832657    0.100000\n",
      "2  74327         0    5.592365  195.567444 -90.832657    0.095407\n",
      "3  74328         0    5.589578  195.567444 -90.832657    0.084691\n",
      "4  74329         0    5.587154  195.567444 -90.832657    0.069311\n",
      "      ts  agent_id           x         y         z    v\n",
      "0  74325         0  192.362411 -86.26268  0.539326  0.0\n",
      "1  74326         0  192.362411 -86.26268  0.491906  0.0\n",
      "2  74327         0  192.362411 -86.26268  0.438374  0.0\n",
      "3  74328         0  192.362411 -86.26268  0.378732  0.0\n",
      "4  74329         0  192.362411 -86.26268  0.312981  0.0\n"
     ]
    }
   ],
   "source": [
    "path_to_clear_night_ctl=\"results\\\\MP1\\\\OOD-Weather\\\\campaign_results\\\\route_highway_epoch24_clear-night_fi_ghost_cutin\\\\routes_fi_route_highway-0912_145136-data_fi_ghost_cutin-single_ctl.csv\"\n",
    "path_to_clear_night_cvip = \"results\\\\MP1\\\\OOD-Weather\\\\campaign_results\\\\route_highway_epoch24_clear-night_fi_ghost_cutin\\\\routes_fi_route_highway-0912_145136-data_fi_ghost_cutin-single_cvip.csv\"\n",
    "path_to_clear_night_traj = \"results\\\\MP1\\\\OOD-Weather\\\\campaign_results\\\\route_highway_epoch24_clear-night_fi_ghost_cutin\\\\routes_fi_route_highway-0912_145136-data_fi_ghost_cutin-single_traj.csv\"\n",
    "\n",
    "clear_night_ctl = pd.read_csv(path_to_clear_night_ctl)\n",
    "clear_night_cvip = pd.read_csv(path_to_clear_night_cvip)\n",
    "clear_night_traj = pd.read_csv(path_to_clear_night_traj)\n",
    "\n",
    "print(clear_night_ctl.head())\n",
    "print(clear_night_cvip.head())\n",
    "print(clear_night_traj.head())"
   ]
  },
  {
   "cell_type": "markdown",
   "metadata": {},
   "source": [
    "### Clear noon"
   ]
  },
  {
   "cell_type": "code",
   "execution_count": 5,
   "metadata": {},
   "outputs": [],
   "source": [
    "path_to_clear_noon_ctl = \"results/MP1/OOD-Weather/campaign_results/route_highway_epoch24_clear-noon_fi_ghost_cutin/routes_fi_route_highway-0912_144500-data_fi_ghost_cutin-single_ctl.csv\"\n",
    "path_to_clear_noon_cvip = \"results/MP1/OOD-Weather/campaign_results/route_highway_epoch24_clear-noon_fi_ghost_cutin/routes_fi_route_highway-0912_144500-data_fi_ghost_cutin-single_cvip.csv\"\n",
    "path_to_clear_noon_traj = \"results/MP1/OOD-Weather/campaign_results/route_highway_epoch24_clear-noon_fi_ghost_cutin/routes_fi_route_highway-0912_144500-data_fi_ghost_cutin-single_traj.csv\"\n",
    "\n",
    "clear_noon_ctl = pd.read_csv(path_to_clear_noon_ctl)\n",
    "clear_noon_cvip = pd.read_csv(path_to_clear_noon_cvip)\n",
    "clear_noon_traj = pd.read_csv(path_to_clear_noon_traj)"
   ]
  },
  {
   "cell_type": "markdown",
   "metadata": {},
   "source": [
    "### Clear sunset"
   ]
  },
  {
   "cell_type": "code",
   "execution_count": null,
   "metadata": {},
   "outputs": [],
   "source": []
  },
  {
   "cell_type": "markdown",
   "metadata": {},
   "source": [
    "### Haze noon"
   ]
  },
  {
   "cell_type": "code",
   "execution_count": null,
   "metadata": {},
   "outputs": [],
   "source": []
  },
  {
   "cell_type": "markdown",
   "metadata": {},
   "source": [
    "### Haze sunset"
   ]
  },
  {
   "cell_type": "code",
   "execution_count": null,
   "metadata": {},
   "outputs": [],
   "source": []
  },
  {
   "cell_type": "markdown",
   "metadata": {},
   "source": [
    "### Rain noon"
   ]
  },
  {
   "cell_type": "code",
   "execution_count": null,
   "metadata": {},
   "outputs": [],
   "source": []
  },
  {
   "cell_type": "markdown",
   "metadata": {},
   "source": [
    "## 2 Summarize\n",
    "\n",
    "a. Duration of the scene"
   ]
  },
  {
   "cell_type": "code",
   "execution_count": 6,
   "metadata": {},
   "outputs": [
    {
     "name": "stdout",
     "output_type": "stream",
     "text": [
      "Duration clear night:  818 s\n"
     ]
    }
   ],
   "source": [
    "duration_clear_night = clear_night_ctl[\"ts\"].iloc[-1] - clear_night_ctl[\"ts\"].iloc[0]\n",
    "print(\"Duration clear night: \", duration_clear_night,\"s\")"
   ]
  },
  {
   "cell_type": "markdown",
   "metadata": {},
   "source": [
    "b. Means and standard deviations of attributes"
   ]
  },
  {
   "cell_type": "code",
   "execution_count": 10,
   "metadata": {},
   "outputs": [],
   "source": [
    "# cvip\n",
    "clear_night_cvip_mean = clear_night_cvip[\"cvip\"].mean()\n",
    "clear_night_cvip_std = clear_night_cvip[\"cvip\"].std()"
   ]
  }
 ],
 "metadata": {
  "kernelspec": {
   "display_name": "base",
   "language": "python",
   "name": "python3"
  },
  "language_info": {
   "codemirror_mode": {
    "name": "ipython",
    "version": 3
   },
   "file_extension": ".py",
   "mimetype": "text/x-python",
   "name": "python",
   "nbconvert_exporter": "python",
   "pygments_lexer": "ipython3",
   "version": "3.12.3"
  }
 },
 "nbformat": 4,
 "nbformat_minor": 2
}
