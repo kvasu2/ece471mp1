{
 "cells": [
  {
   "cell_type": "code",
   "execution_count": 2,
   "metadata": {},
   "outputs": [],
   "source": [
    "import pandas as pd"
   ]
  },
  {
   "cell_type": "markdown",
   "metadata": {},
   "source": [
    "# Task 1"
   ]
  },
  {
   "cell_type": "markdown",
   "metadata": {},
   "source": [
    "## 1 Import .csv files\n",
    "\n",
    "### Clear night"
   ]
  },
  {
   "cell_type": "code",
   "execution_count": 5,
   "metadata": {},
   "outputs": [],
   "source": [
    "path_to_clear_night_ctl=\"results\\\\MP1\\\\OOD-Weather\\\\campaign_results\\\\route_highway_epoch24_clear-night_fi_ghost_cutin\\\\routes_fi_route_highway-0912_145136-data_fi_ghost_cutin-single_ctl.csv\"\n",
    "path_to_clear_night_cvip = \"results\\\\MP1\\\\OOD-Weather\\\\campaign_results\\\\route_highway_epoch24_clear-night_fi_ghost_cutin\\\\routes_fi_route_highway-0912_145136-data_fi_ghost_cutin-single_cvip.csv\"\n",
    "path_to_clear_night_traj = \"results\\\\MP1\\\\OOD-Weather\\\\campaign_results\\\\route_highway_epoch24_clear-night_fi_ghost_cutin\\\\routes_fi_route_highway-0912_145136-data_fi_ghost_cutin-single_traj.csv\"\n",
    "\n",
    "clear_night_ctl = pd.read_csv(path_to_clear_night_ctl)\n",
    "clear_night_cvip = pd.read_csv(path_to_clear_night_cvip)\n",
    "clear_night_traj = pd.read_csv(path_to_clear_night_traj)"
   ]
  },
  {
   "cell_type": "markdown",
   "metadata": {},
   "source": [
    "### Clear noon"
   ]
  },
  {
   "cell_type": "code",
   "execution_count": null,
   "metadata": {},
   "outputs": [],
   "source": [
    "path_to_clear_noon_ctl = \"results/MP1/OOD-Weather/campaign_results/route_highway_epoch24_clear-noon_fi_ghost_cutin/routes_fi_route_highway-0912_144500-data_fi_ghost_cutin-single_ctl.csv\"\n",
    "path_to_clear_noon_cvip = \"results/MP1/OOD-Weather/campaign_results/route_highway_epoch24_clear-noon_fi_ghost_cutin/routes_fi_route_highway-0912_144500-data_fi_ghost_cutin-single_cvip.csv\"\n",
    "path_to_clear_noon_traj = \"results/MP1/OOD-Weather/campaign_results/route_highway_epoch24_clear-noon_fi_ghost_cutin/routes_fi_route_highway-0912_144500-data_fi_ghost_cutin-single_traj.csv\""
   ]
  },
  {
   "cell_type": "markdown",
   "metadata": {},
   "source": [
    "### Clear sunset"
   ]
  },
  {
   "cell_type": "code",
   "execution_count": null,
   "metadata": {},
   "outputs": [],
   "source": []
  },
  {
   "cell_type": "markdown",
   "metadata": {},
   "source": [
    "### Haze noon"
   ]
  },
  {
   "cell_type": "code",
   "execution_count": null,
   "metadata": {},
   "outputs": [],
   "source": []
  },
  {
   "cell_type": "markdown",
   "metadata": {},
   "source": [
    "### Haze sunset"
   ]
  },
  {
   "cell_type": "code",
   "execution_count": null,
   "metadata": {},
   "outputs": [],
   "source": []
  },
  {
   "cell_type": "markdown",
   "metadata": {},
   "source": [
    "### Rain noon"
   ]
  },
  {
   "cell_type": "markdown",
   "metadata": {},
   "source": []
  }
 ],
 "metadata": {
  "kernelspec": {
   "display_name": "base",
   "language": "python",
   "name": "python3"
  },
  "language_info": {
   "codemirror_mode": {
    "name": "ipython",
    "version": 3
   },
   "file_extension": ".py",
   "mimetype": "text/x-python",
   "name": "python",
   "nbconvert_exporter": "python",
   "pygments_lexer": "ipython3",
   "version": "3.12.3"
  }
 },
 "nbformat": 4,
 "nbformat_minor": 2
}
