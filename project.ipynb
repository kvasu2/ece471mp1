{
 "cells": [
  {
   "cell_type": "code",
   "execution_count": 23,
   "metadata": {},
   "outputs": [],
   "source": [
    "import pandas as pd"
   ]
  },
  {
   "cell_type": "markdown",
   "metadata": {},
   "source": [
    "# Task 1"
   ]
  },
  {
   "cell_type": "markdown",
   "metadata": {},
   "source": [
    "## 1 Import .csv files"
   ]
  },
  {
   "cell_type": "code",
   "execution_count": 24,
   "metadata": {},
   "outputs": [
    {
     "name": "stdout",
     "output_type": "stream",
     "text": [
      "      ts  agent_id  throttle     steer  brake\n",
      "0  74325         0       0.9 -0.002665    0.0\n",
      "1  74326         0       0.9 -0.011529    0.0\n",
      "2  74327         0       0.9 -0.009963    0.0\n",
      "3  74328         0       0.9 -0.011508    0.0\n",
      "4  74329         0       0.9  0.000712    0.0\n",
      "      ts  agent_id        cvip      cvip_x     cvip_y      cvip_z\n",
      "0  74325         0  500.491189  198.767441 -95.832657 -499.819366\n",
      "1  74326         0    5.595580  195.567444 -90.832657    0.100000\n",
      "2  74327         0    5.592365  195.567444 -90.832657    0.095407\n",
      "3  74328         0    5.589578  195.567444 -90.832657    0.084691\n",
      "4  74329         0    5.587154  195.567444 -90.832657    0.069311\n",
      "      ts  agent_id           x         y         z    v\n",
      "0  74325         0  192.362411 -86.26268  0.539326  0.0\n",
      "1  74326         0  192.362411 -86.26268  0.491906  0.0\n",
      "2  74327         0  192.362411 -86.26268  0.438374  0.0\n",
      "3  74328         0  192.362411 -86.26268  0.378732  0.0\n",
      "4  74329         0  192.362411 -86.26268  0.312981  0.0\n",
      "      ts  agent_id  throttle     steer  brake\n",
      "0  47920         0       0.9  0.003714    0.0\n",
      "1  47921         0       0.9  0.002394    0.0\n",
      "2  47922         0       0.9  0.003967    0.0\n",
      "3  47923         0       0.9  0.001942    0.0\n",
      "4  47924         0       0.9  0.003237    0.0\n",
      "      ts  agent_id        cvip      cvip_x     cvip_y      cvip_z\n",
      "0  47920         0  500.491189  198.767441 -95.832657 -499.819366\n",
      "1  47921         0    5.595580  195.567444 -90.832657    0.100000\n",
      "2  47922         0    5.592365  195.567444 -90.832657    0.095407\n",
      "3  47923         0    5.589578  195.567444 -90.832657    0.084691\n",
      "4  47924         0    5.587154  195.567444 -90.832657    0.069311\n",
      "      ts  agent_id           x         y         z    v\n",
      "0  47920         0  192.362411 -86.26268  0.539326  0.0\n",
      "1  47921         0  192.362411 -86.26268  0.491906  0.0\n",
      "2  47922         0  192.362411 -86.26268  0.438374  0.0\n",
      "3  47923         0  192.362411 -86.26268  0.378732  0.0\n",
      "4  47924         0  192.362411 -86.26268  0.312981  0.0\n",
      "      ts  agent_id  throttle     steer  brake\n",
      "0  63926         0       0.9 -0.010798    0.0\n",
      "1  63927         0       0.9 -0.000656    0.0\n",
      "2  63928         0       0.9 -0.000763    0.0\n",
      "3  63929         0       0.9 -0.010474    0.0\n",
      "4  63930         0       0.9  0.000961    0.0\n",
      "      ts  agent_id        cvip      cvip_x     cvip_y      cvip_z\n",
      "0  63926         0  500.491189  198.767441 -95.832657 -499.819366\n",
      "1  63927         0    5.595580  195.567444 -90.832657    0.100000\n",
      "2  63928         0    5.592365  195.567444 -90.832657    0.095407\n",
      "3  63929         0    5.589578  195.567444 -90.832657    0.084691\n",
      "4  63930         0    5.587154  195.567444 -90.832657    0.069311\n",
      "      ts  agent_id           x         y         z    v\n",
      "0  63926         0  192.362411 -86.26268  0.539326  0.0\n",
      "1  63927         0  192.362411 -86.26268  0.491906  0.0\n",
      "2  63928         0  192.362411 -86.26268  0.438374  0.0\n",
      "3  63929         0  192.362411 -86.26268  0.378732  0.0\n",
      "4  63930         0  192.362411 -86.26268  0.312981  0.0\n",
      "      ts  agent_id  throttle     steer  brake\n",
      "0  67872         0       0.9  0.006816    0.0\n",
      "1  67873         0       0.9  0.003808    0.0\n",
      "2  67874         0       0.9  0.002664    0.0\n",
      "3  67875         0       0.9  0.005451    0.0\n",
      "4  67876         0       0.9  0.006233    0.0\n",
      "      ts  agent_id        cvip      cvip_x     cvip_y      cvip_z\n",
      "0  67872         0  500.491189  198.767441 -95.832657 -499.819366\n",
      "1  67873         0    5.595580  195.567444 -90.832657    0.100000\n",
      "2  67874         0    5.592365  195.567444 -90.832657    0.095407\n",
      "3  67875         0    5.589578  195.567444 -90.832657    0.084691\n",
      "4  67876         0    5.587154  195.567444 -90.832657    0.069311\n",
      "      ts  agent_id           x         y         z    v\n",
      "0  67872         0  192.362411 -86.26268  0.539326  0.0\n",
      "1  67873         0  192.362411 -86.26268  0.491906  0.0\n",
      "2  67874         0  192.362411 -86.26268  0.438374  0.0\n",
      "3  67875         0  192.362411 -86.26268  0.378732  0.0\n",
      "4  67876         0  192.362411 -86.26268  0.312981  0.0\n",
      "      ts  agent_id  throttle     steer  brake\n",
      "0  70614         0       0.9 -0.000369    0.0\n",
      "1  70615         0       0.9  0.001370    0.0\n",
      "2  70616         0       0.9 -0.003059    0.0\n",
      "3  70617         0       0.9  0.000761    0.0\n",
      "4  70618         0       0.9  0.001801    0.0\n",
      "      ts  agent_id        cvip      cvip_x     cvip_y      cvip_z\n",
      "0  70614         0  500.491189  198.767441 -95.832657 -499.819366\n",
      "1  70615         0    5.595580  195.567444 -90.832657    0.100000\n",
      "2  70616         0    5.592365  195.567444 -90.832657    0.095407\n",
      "3  70617         0    5.589578  195.567444 -90.832657    0.084691\n",
      "4  70618         0    5.587154  195.567444 -90.832657    0.069311\n",
      "      ts  agent_id           x         y         z    v\n",
      "0  70614         0  192.362411 -86.26268  0.539326  0.0\n",
      "1  70615         0  192.362411 -86.26268  0.491906  0.0\n",
      "2  70616         0  192.362411 -86.26268  0.438374  0.0\n",
      "3  70617         0  192.362411 -86.26268  0.378732  0.0\n",
      "4  70618         0  192.362411 -86.26268  0.312981  0.0\n",
      "      ts  agent_id  throttle     steer  brake\n",
      "0  61516         0       0.9  0.038383    0.0\n",
      "1  61517         0       0.9 -0.003632    0.0\n",
      "2  61518         0       0.9 -0.025838    0.0\n",
      "3  61519         0       0.9 -0.021544    0.0\n",
      "4  61520         0       0.9 -0.021226    0.0\n",
      "      ts  agent_id        cvip      cvip_x     cvip_y      cvip_z\n",
      "0  61516         0  500.491189  198.767441 -95.832657 -499.819366\n",
      "1  61517         0    5.595580  195.567444 -90.832657    0.100000\n",
      "2  61518         0    5.592365  195.567444 -90.832657    0.095407\n",
      "3  61519         0    5.589578  195.567444 -90.832657    0.084691\n",
      "4  61520         0    5.587154  195.567444 -90.832657    0.069311\n",
      "      ts  agent_id           x         y         z    v\n",
      "0  61516         0  192.362411 -86.26268  0.539326  0.0\n",
      "1  61517         0  192.362411 -86.26268  0.491906  0.0\n",
      "2  61518         0  192.362411 -86.26268  0.438374  0.0\n",
      "3  61519         0  192.362411 -86.26268  0.378732  0.0\n",
      "4  61520         0  192.362411 -86.26268  0.312981  0.0\n"
     ]
    }
   ],
   "source": [
    "# We will create a multidimensional dataset with in dimension\n",
    "# dim 1: weather conditions\n",
    "# dim 2: the file label\n",
    "\n",
    "# Initializing label sets\n",
    "weatherconditions = [\"clear-night\", \"clear-noon\", \"clear-sunset\", \"haze-noon\", \"haze-sunset\", \"rain-noon\"]\n",
    "labelset = [\"ctl\", \"cvip\", \"traj\"]\n",
    "\n",
    "# Necessary time stamps to get the correct path to the file\n",
    "timestamps = { \n",
    "    \"clear-night\" : \"0912_145136\",\n",
    "    \"clear-noon\" : \"0912_144500\",\n",
    "    \"clear-sunset\" : \"0912_144802\",\n",
    "    \"haze-noon\" : \"0912_144913\",\n",
    "    \"haze-sunset\" : \"0912_145024\",\n",
    "    \"rain-noon\" : \"0912_144715\"\n",
    "}\n",
    "\n",
    "# Initializing the dataset\n",
    "dataset = dict()\n",
    "\n",
    "# Filling the dataset with the imports\n",
    "for weather in weatherconditions:\n",
    "    dataset[weather] = dict()\n",
    "    for label in labelset:\n",
    "        dataset[weather][label] = pd.read_csv(\"results\\\\MP1\\\\OOD-Weather\\\\campaign_results\\\\route_highway_epoch24_\" \n",
    "                                              + weather \n",
    "                                              + \"_fi_ghost_cutin\\\\routes_fi_route_highway-\"\n",
    "                                              + timestamps[weather]\n",
    "                                              + \"-data_fi_ghost_cutin-single_\" \n",
    "                                              + label \n",
    "                                              + \".csv\"\n",
    "                                            )\n",
    "\n",
    "for weather in weatherconditions:\n",
    "    for label in labelset:\n",
    "        print(dataset[weather][label].head())"
   ]
  },
  {
   "cell_type": "markdown",
   "metadata": {},
   "source": [
    "## 2 Summarize\n",
    "\n",
    "a. Duration of the scene"
   ]
  },
  {
   "cell_type": "code",
   "execution_count": 26,
   "metadata": {},
   "outputs": [],
   "source": [
    "# Initialize the statistics dataset\n",
    "statistics = dict()\n",
    "\n",
    "# Compute the duration for each weather condition\n",
    "for weather in weatherconditions:\n",
    "    statistics[weather] = dict()\n",
    "    statistics[\"Duration\"] = dataset[weather][\"ctl\"][\"ts\"].iloc[-1] - dataset[weather][\"ctl\"][\"ts\"].iloc[0]"
   ]
  },
  {
   "cell_type": "markdown",
   "metadata": {},
   "source": [
    "b. Means and standard deviations of attributes"
   ]
  },
  {
   "cell_type": "code",
   "execution_count": 27,
   "metadata": {},
   "outputs": [],
   "source": [
    "# Compute the mean and standard deviation, add it to the statistics dictionary.\n",
    "for weather in weatherconditions:\n",
    "    for label in labelset:\n",
    "        for stat in [\"throttle\", \"steer\", \"brake\", \"cvip\", \"x\", \"y\", \"z\"]:\n",
    "            a = dataset[weather][label].get(stat) # Returns None if stat is not a key in the dictionary\n",
    "            if a is not None: # Add the mean and std as a list of size two to the key stat\n",
    "                statistics[weather][stat] = [round(a.mean(), 3), round(a.std(), 3)] \n",
    "\n",
    "# Summary: statistics[weather] is a collection of stats of the scenario \"weather\". \n",
    "# It has a key \"Duration\" which outputs an integer\n",
    "# The other keys output a list of [mean, std], both rounded to three decimal places.\n",
    "\n",
    "# If you want to use a for loop to run through the keys of stat, use \"for stat in list(statistics[weather].keys())\".\n",
    "# You might want to exclude \"Duration\" in the for loop.\n",
    "# This way you don't have to copy the list of stats anymore.\n"
   ]
  },
  {
   "cell_type": "code",
   "execution_count": null,
   "metadata": {},
   "outputs": [],
   "source": []
  }
 ],
 "metadata": {
  "kernelspec": {
   "display_name": "base",
   "language": "python",
   "name": "python3"
  },
  "language_info": {
   "codemirror_mode": {
    "name": "ipython",
    "version": 3
   },
   "file_extension": ".py",
   "mimetype": "text/x-python",
   "name": "python",
   "nbconvert_exporter": "python",
   "pygments_lexer": "ipython3",
   "version": "3.12.3"
  }
 },
 "nbformat": 4,
 "nbformat_minor": 2
}
